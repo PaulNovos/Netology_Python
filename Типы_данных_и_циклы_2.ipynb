{
  "nbformat": 4,
  "nbformat_minor": 0,
  "metadata": {
    "colab": {
      "name": "Типы данных и циклы_2.ipynb",
      "provenance": [],
      "collapsed_sections": [],
      "toc_visible": true
    },
    "kernelspec": {
      "name": "python3",
      "display_name": "Python 3"
    },
    "language_info": {
      "name": "python"
    }
  },
  "cells": [
    {
      "cell_type": "markdown",
      "metadata": {
        "id": "SdckHrxxfcKx"
      },
      "source": [
        "# Задание 1\n",
        "Дана переменная, в которой хранится словарь, содержащий гео-метки для каждого пользователя (пример структуры данных приведен ниже). Вам необходимо написать программу, которая выведет на экран множество уникальных гео-меток всех пользователей."
      ]
    },
    {
      "cell_type": "code",
      "metadata": {
        "id": "NrNUmFT2QEN6",
        "colab": {
          "base_uri": "https://localhost:8080/"
        },
        "outputId": "9098c862-ecf7-4315-a22e-4835a03ce8de"
      },
      "source": [
        "ids = {'user1': [213, 213, 213, 15, 213], \n",
        "       'user2': [54, 54, 119, 119, 119], \n",
        "       'user3': [213, 98, 98, 35]}\n",
        "\n",
        "\n",
        "print(set(sum(ids.values(), [])))"
      ],
      "execution_count": 1,
      "outputs": [
        {
          "output_type": "stream",
          "name": "stdout",
          "text": [
            "{98, 35, 15, 213, 54, 119}\n"
          ]
        }
      ]
    },
    {
      "cell_type": "markdown",
      "metadata": {
        "id": "Rnw12sg8fUcK"
      },
      "source": [
        "# Задание 2\n",
        "Дана переменная, в которой хранится список поисковых запросов пользователя (пример структуры данных приведен ниже). Вам необходимо написать программу, которая выведет на экран распределение количества слов в запросах в требуемом виде."
      ]
    },
    {
      "cell_type": "code",
      "metadata": {
        "id": "6uzluAKxfgFj",
        "colab": {
          "base_uri": "https://localhost:8080/"
        },
        "outputId": "2a0b4e77-a4eb-43f7-a26b-8962a689dee6"
      },
      "source": [
        "queries = [\n",
        "    'смотреть сериалы онлайн',\n",
        "    'новости спорта',\n",
        "    'афиша кино',\n",
        "    'курс доллара',\n",
        "    'сериалы этим летом',\n",
        "    'курс по питону',\n",
        "    'сериалы про спорт',\n",
        "]\n",
        "\n",
        "count_word_list = [] # создаем пустой список количества слов в каждом запросе\n",
        "for q in queries: # для каждого запроса q в исходном списке:\n",
        "   count_word_list.append(len(q.split(' '))) # разбиваем строку запроса на слова, считаем кол-во слов (длина списка \"разбитой\" строки) и добавляем значение в список количества слов\n",
        "\n",
        "for item in set(count_word_list): # для каждого значения кол-ва слов item из множества на основе count_word_list (т.е. берем только уникальные значения кол-ва слов)\n",
        "  print(f'Поисковых запросов, содержащих {item} слов(а): {round(count_word_list.count(item) / len(queries) * 100, 2)}%') # count_word_list.count(item) - кол-во запросов с заданным кол-вом слов делим на количество запросов len(queries)\n",
        "\n"
      ],
      "execution_count": 2,
      "outputs": [
        {
          "output_type": "stream",
          "name": "stdout",
          "text": [
            "Поисковых запросов, содержащих 2 слов(а): 42.86%\n",
            "Поисковых запросов, содержащих 3 слов(а): 57.14%\n"
          ]
        }
      ]
    },
    {
      "cell_type": "markdown",
      "metadata": {
        "id": "bc0_egL3tXKd"
      },
      "source": [
        "# Задание 3\n",
        "Дана переменная, в которой хранится информация о затратах и доходе рекламных кампаний по различным источникам. Необходимо дополнить исходную структуру показателем ROI, который рассчитаем по формуле: (revenue / cost - 1) * 100"
      ]
    },
    {
      "cell_type": "code",
      "metadata": {
        "id": "GTvV0BYOtbed"
      },
      "source": [
        "results = {\n",
        "    'vk': {'revenue': 103, 'cost': 98},\n",
        "    'yandex': {'revenue': 179, 'cost': 153},\n",
        "    'facebook': {'revenue': 103, 'cost': 110},\n",
        "    'adwords': {'revenue': 35, 'cost': 34},\n",
        "    'twitter': {'revenue': 11, 'cost': 24},\n",
        "}\n",
        "\n",
        "# ROI = (revenue / cost - 1) * 100\n",
        "\n",
        "for social in results:\n",
        "  results[social]['ROI'] = round((results[social]['revenue'] / results[social]['cost'] - 1) * 100, 2)\n",
        "\n",
        "print(results)"
      ],
      "execution_count": null,
      "outputs": []
    },
    {
      "cell_type": "markdown",
      "metadata": {
        "id": "2FmDGyKeTP0L"
      },
      "source": [
        "# Задание 4\n",
        "Дана переменная, в которой хранится статистика рекламных каналов по объемам продаж (пример структуры данных приведен ниже). Напишите программу, которая возвращает название канала с максимальным объемом продаж."
      ]
    },
    {
      "cell_type": "code",
      "metadata": {
        "id": "vJe4jyeQTT5p"
      },
      "source": [
        "stats = {'facebook': 55, 'yandex': 115, 'vk': 120, 'google': 99, 'email': 42, 'ok': 98}\n",
        "\n",
        "max = 0 # создаем переменную для хранения максимального результата\n",
        "\n",
        "for val in stats.items(): # перебираем по значениям словарь\n",
        "\n",
        "  if val[1] > max: # если значение объема продаж больше, чем в \"max\", то\n",
        "    max = val[1] # присваиваем это значение переменной max\n",
        "    social = val[0] # а переменной social присваиваем название рекламного канала\n",
        "\n",
        "print(f'Максимальный объем продаж на рекламном канале: {social}')"
      ],
      "execution_count": null,
      "outputs": []
    },
    {
      "cell_type": "markdown",
      "metadata": {
        "id": "MFyBm5jfX0pB"
      },
      "source": [
        "# Задание 5 (необязательно)\n",
        "Дан список произвольной длины. Необходимо написать код, который на основе исходного списка составит словарь такого уровня вложенности, какова длина исхондого списка."
      ]
    },
    {
      "cell_type": "code",
      "metadata": {
        "id": "ZB_BFPQcX3_H",
        "colab": {
          "base_uri": "https://localhost:8080/"
        },
        "outputId": "8ee46b88-3949-4db0-866a-29ed3ae1c803"
      },
      "source": [
        "my_list = ['2018-01-01', 'yandex', 'cpc', 100] #['a', 'b', 'c', 1, 2, 3]\n",
        "\n",
        "\"\"\"\n",
        "Моё решение:\n",
        "\n",
        "dict_itog = {} # создаем пустой словарь\n",
        "\n",
        "if len(my_list) > 1: # если длина исходного списка больше одного объекта, то\n",
        "  dict_itog = {my_list[- 2]:my_list[- 1]} # создаем первую пару ключ:значение из последнего и предпоследнего значений исходного списка\n",
        "\n",
        "  for i in range((len(my_list) - 3), -1, -1): # цикл от номера индекса пред-предпоследнего значения списка (два уже взяли и ещё минус 1, т.к. индексы с \"0\") и до нулевого индекса\n",
        "    dict_itog = dict.fromkeys([my_list[i]], dict_itog) # в качестве ключа задаем текущее значение элемента списка по индексу, в качестве значения - всё, что есть уже в словаре\n",
        "\n",
        "elif len(my_list) == 1: # если исходный список состоит из одного объекта, то\n",
        "  dict_itog[my_list[0]] = None # добавляем в словарь пару ключ - значение элемента списка, значение по ключу - ничего (None)\n",
        "\n",
        "else: # если исходный список пустой, то\n",
        "  print('Задан нулевой список') # выводим об этом сообщение\n",
        "\n",
        "print(dict_itog)\n",
        "\"\"\"\n",
        "# Решение преподавателя:\n",
        "\n",
        "res = my_list[-1] \n",
        "for el in reversed(my_list[:-1]): \n",
        "  res = {el: res}\n",
        "print(res)"
      ],
      "execution_count": null,
      "outputs": [
        {
          "output_type": "stream",
          "text": [
            "{'2018-01-01': {'yandex': {'cpc': 100}}}\n"
          ],
          "name": "stdout"
        }
      ]
    },
    {
      "cell_type": "markdown",
      "metadata": {
        "id": "XpnnAAxOVnb7"
      },
      "source": [
        "# Задание 6 (необязательно)\n",
        "Дана книга рецептов с информацией о том, сколько ингредиентов нужно для приготовления блюда в расчете на одну порцию (пример данных представлен ниже).\n",
        "\n",
        "Напишите программу, которая будет запрашивать у пользователя количество порций для приготовления этих блюд и отображать информацию о суммарном количестве требуемых ингредиентов в указанном виде.\n",
        "\n",
        "Внимание! Одинаковые ингридиенты с разными размерностями нужно считать раздельно!"
      ]
    },
    {
      "cell_type": "code",
      "metadata": {
        "id": "gT4NoUT8Vq0X",
        "colab": {
          "base_uri": "https://localhost:8080/"
        },
        "outputId": "c9d484a2-3c98-4416-9f6d-0da3a9270d18"
      },
      "source": [
        "cook_book = {\n",
        "  'салат': [\n",
        "     {'ingridient_name': 'сыр', 'quantity': 50, 'measure': 'гр'},\n",
        "     {'ingridient_name': 'томаты', 'quantity': 2, 'measure': 'шт'},\n",
        "     {'ingridient_name': 'огурцы', 'quantity': 20, 'measure': 'гр'},\n",
        "     {'ingridient_name': 'маслины', 'quantity': 10, 'measure': 'гр'},\n",
        "     {'ingridient_name': 'оливковое масло', 'quantity': 20, 'measure': 'мл'},\n",
        "     {'ingridient_name': 'салат', 'quantity': 10, 'measure': 'гр'},\n",
        "     {'ingridient_name': 'перец', 'quantity': 20, 'measure': 'гр'}\n",
        "    ],\n",
        "  'пицца': [\n",
        "     {'ingridient_name': 'сыр', 'quantity': 20, 'measure': 'гр'},\n",
        "     {'ingridient_name': 'колбаса', 'quantity': 30, 'measure': 'гр'},\n",
        "     {'ingridient_name': 'бекон', 'quantity': 30, 'measure': 'гр'},\n",
        "     {'ingridient_name': 'оливки', 'quantity': 10, 'measure': 'гр'},\n",
        "     {'ingridient_name': 'томаты', 'quantity': 20, 'measure': 'гр'},\n",
        "     {'ingridient_name': 'тесто', 'quantity': 100, 'measure': 'гр'},   \n",
        "    ],\n",
        "  'лимонад': [\n",
        "     {'ingridient_name': 'лимон', 'quantity': 1, 'measure': 'шт'},\n",
        "     {'ingridient_name': 'вода', 'quantity': 200, 'measure': 'мл'},\n",
        "     {'ingridient_name': 'сахар', 'quantity': 10, 'measure': 'гр'},\n",
        "     {'ingridient_name': 'лайм', 'quantity': 20, 'measure': 'гр'},    \n",
        "    ]\n",
        "}\n",
        "\"\"\" Моё решение:\n",
        "\n",
        "qty = int(input('Введите количество порций: ')) # запрос количества порций\n",
        "ingridients = [] # создаем пустой список, в котором будут храниться ингридиенты\n",
        "\n",
        "for v in cook_book.values(): # в переменную v заносим поочередно списки с ингридиентами в виде набора словарей\n",
        "  for item in v: # в переменную item заносим поочередно каждый из словарей с ингридиентами\n",
        "    ingridients.append(list(item.values())) # получаем значения из словаря с ингридиентами, проебразуем их в список и добавляем этот список в общий список ингридиентов\n",
        "    \n",
        "i = 0 # переменная для перебора индексов списка с ингридиентами\n",
        "j = 1 # переменная для перебора индексов списка с ингридиентами (будем начинать со второго элемента списка)\n",
        "while i < len(ingridients): # для каждого элемента списка с ингридиентами:\n",
        "  while j < len(ingridients): # перебираем все остальные элементы, начиная с последующего\n",
        "    if (ingridients[i][0] == ingridients[j][0]) and (ingridients[i][2] == ingridients[j][2]): # и сравниваем название ингридиента и единицы измерения - если совпадают, то:\n",
        "      ingridients[i][1] = ingridients[i][1] + ingridients[j][1] # добавляем к количеству этого ингридиента количество такого же, но стоящего позже в списке\n",
        "      ingridients.pop(j) # удаляем из списка тот элемент, количество которого добавили, чтобы не добавлять его снова (длина списка при этом уменьшается)\n",
        "    j +=1 # инкрементируем индекс\n",
        "  ingridients[i][1] = ingridients[i][1] * qty # во внешнем цикле увеличиваем итоговое количество ингридиента на количество порций\n",
        "  print(f'{ingridients[i][0]}: {ingridients[i][1]} {ingridients[i][2]}'.capitalize()) # и сразу выводим этот игридиент на печать\n",
        "  i +=1 # инкрементируем индекс\n",
        "\"\"\"\n",
        "\n",
        "# Решение преподавателя:\n",
        "\n",
        "person = 5\n",
        "shopdict = {}\n",
        "for dish in cook_book.values():\n",
        "  for ingr in dish:\n",
        "    key = (ingr['ingridient_name'], ingr['measure'])\n",
        "    if key not in shopdict:\n",
        "      shopdict[key] = ingr['quantity'] * person\n",
        "    else:\n",
        "      shopdict[key] += ingr['quantity'] * person\n",
        "\n",
        "for name, q in shopdict.items():\n",
        "  print(f'{name[0]}: {q} {name[1]}')"
      ],
      "execution_count": null,
      "outputs": [
        {
          "output_type": "stream",
          "text": [
            "сыр: 350 гр\n",
            "томаты: 10 шт\n",
            "огурцы: 100 гр\n",
            "маслины: 50 гр\n",
            "оливковое масло: 100 мл\n",
            "салат: 50 гр\n",
            "перец: 100 гр\n",
            "колбаса: 150 гр\n",
            "бекон: 150 гр\n",
            "оливки: 50 гр\n",
            "томаты: 100 гр\n",
            "тесто: 500 гр\n",
            "лимон: 5 шт\n",
            "вода: 1000 мл\n",
            "сахар: 50 гр\n",
            "лайм: 100 гр\n"
          ],
          "name": "stdout"
        }
      ]
    }
  ]
}