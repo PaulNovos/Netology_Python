{
  "nbformat": 4,
  "nbformat_minor": 0,
  "metadata": {
    "colab": {
      "name": "Регулярки.ipynb",
      "provenance": [],
      "collapsed_sections": [],
      "toc_visible": true
    },
    "kernelspec": {
      "name": "python3",
      "display_name": "Python 3"
    },
    "language_info": {
      "name": "python"
    }
  },
  "cells": [
    {
      "cell_type": "markdown",
      "metadata": {
        "id": "CsPY_AEFWgDi"
      },
      "source": [
        "# Задание 1\n",
        "Напишите функцию, которая принимает на вход строку и проверяет является ли она валидным транспортным номером (1 буква, 3 цифры, 2 буквы, 2-3 цифры). Обратите внимание, что не все буквы кириллического алфавита используются в транспортных номерах.\n",
        "\n",
        "Если номер валиден, то функция должна возвращать отдельно номер и регион."
      ]
    },
    {
      "cell_type": "code",
      "metadata": {
        "colab": {
          "base_uri": "https://localhost:8080/"
        },
        "id": "V9mirf8iWjm4",
        "outputId": "7f3751c5-1853-41d7-c257-1c636a25f981"
      },
      "source": [
        "# Проверка автомобильного номера на валидность. Буквы: \"А\", \"В\", \"Е\", \"К\", \"М\", \"Н\", \"О\", \"Р\", \"С\", \"Т\", \"X\" и \"У\"\n",
        "\n",
        "import re\n",
        "\n",
        "def number_auto(number):\n",
        "  \n",
        "  if re.match(r'[АВЕКМНОРСТXУ]\\d{3}[АВЕКМНОРСТXУ]{2}\\d{2,3}', number.upper()):\n",
        "    print(f'Номер {number.upper()} валиден. Регион: {number[6:]}')\n",
        "  else:\n",
        "    print('Номер не валиден')\n",
        "\n",
        "number_auto('А227ов796')"
      ],
      "execution_count": null,
      "outputs": [
        {
          "output_type": "stream",
          "text": [
            "Номер А227ОВ796 валиден. Регион: 796\n"
          ],
          "name": "stdout"
        }
      ]
    },
    {
      "cell_type": "markdown",
      "metadata": {
        "id": "DiUE_cBsNr_I"
      },
      "source": [
        "# Задание 2\n",
        "Напишите функцию, которая будет удалять все последовательные повторы слов из заданной строки при помощи регулярных выражений.\n",
        "\n",
        "Пример работы программы:\n",
        "\n",
        "some_string = ‘Напишите функцию функцию, которая будет будет будет будет удалять все все все все последовательные повторы слов из из из из заданной строки строки при помощи регулярных выражений.’\n",
        "\n",
        "Результат:\n",
        "Напишите функцию, которая будет удалять все последовательные повторы слов из заданной строки при помощи регулярных выражений."
      ]
    },
    {
      "cell_type": "code",
      "metadata": {
        "id": "uFjVE2gJNvi0"
      },
      "source": [
        "import re\n",
        "\n",
        "def make_non_repeating_words(string):\n",
        "\n",
        "  while re.search(r'(\\b\\w+)\\s\\1', string) is not None: # пока есть повторения слов.\n",
        "    string = re.sub(r'(\\b\\w+)\\s\\1', r'\\1', string) # делаем замену повтора на одно слово\n",
        "  \n",
        "  return string\n",
        "  \n",
        "make_non_repeating_words('Напишите функцию функцию, которая будет будет будет будет удалять все все все все последовательные повторы слов из из из из заданной строки строки при помощи регулярных выражений.')"
      ],
      "execution_count": null,
      "outputs": []
    },
    {
      "cell_type": "markdown",
      "metadata": {
        "id": "li9YuddBNwEt"
      },
      "source": [
        "# Задание 3\n",
        "Напишите функцию, которая будет возвращать акроним по переданной в нее строке со словами.\n",
        "\n",
        "Примеры работы программы:\n",
        "\n",
        "some_words = 'Информационные технологии’\n",
        "Результат: ИТ\n",
        "\n",
        "some_words = 'Near Field Communication’\n",
        "Результат: NFC"
      ]
    },
    {
      "cell_type": "code",
      "metadata": {
        "id": "cS4Mrq_aN0tK"
      },
      "source": [
        "import re\n",
        "\n",
        "def acronim(some_words):\n",
        "  return ''.join(re.findall(r'\\b\\w', some_words)).upper()\n",
        "\n",
        "some_words = 'Near Field Communication'\n",
        "acronim(some_words)"
      ],
      "execution_count": null,
      "outputs": []
    },
    {
      "cell_type": "markdown",
      "metadata": {
        "id": "qH2ffifSN1Ix"
      },
      "source": [
        "# Задание 4\n",
        "Напишите функцию, которая будет принимать на вход список email-адресов и выводить их распределение по доменным зонам.\n",
        "\n",
        "Пример работы программы:\n",
        "\n",
        "emails = [‘test@gmail.com’, ‘xyz@test.in’, ‘test@ya.ru’, ‘xyz@mail.ru’, ‘xyz@ya.ru’, ‘xyz@gmail.com’]\n",
        "\n",
        "Результат:\n",
        "\n",
        "gmail.com: 2\n",
        "test.in: 1\n",
        "ya.ru: 2\n",
        "mail.ru: 1"
      ]
    },
    {
      "cell_type": "code",
      "metadata": {
        "id": "arQQUGUDN51N"
      },
      "source": [
        "import re\n",
        "\n",
        "def count_mail_domens(emails):\n",
        "  domens = [re.search(r'@(\\w+.\\w{1,3})', mail).group(1) for mail in emails]\n",
        "  \n",
        "  for domen in set(domens):\n",
        "    print(f'{domen}: {domens.count(domen)}', end=' ')\n",
        "\n",
        "emails = ['test@gmail.com', 'xyz@test.in', 'test@ya.ru', 'xyz@mail.ru', 'xyz@ya.ru', 'xyz@gmail.com']\n",
        "count_mail_domens(emails)"
      ],
      "execution_count": null,
      "outputs": []
    },
    {
      "cell_type": "markdown",
      "metadata": {
        "id": "BdCyUkbLN6tE"
      },
      "source": [
        "# Задание 5 (необязательное)\n",
        "\n",
        "Напишите функцию, которая будет подсчитывать сколько слов начинается на гласные, а сколько на согласные буквы в тексте (текст может быть написан как с использованием букв кириллицы, так и латиницы).\n",
        "\n",
        "Пример работы программы:\n",
        "\n",
        "some_text = ‘Эталонной реализацией Python является интерпретатор CPython, поддерживающий большинство активно используемых платформ. Он распространяется под свободной лицензией Python Software Foundation License, позволяющей использовать его без ограничений в любых приложениях, включая проприетарные.’\n",
        "\n",
        "Результат:\n",
        "\n",
        "Слов на гласные буквы: 9\n",
        "Слов на согласные буквы: 21"
      ]
    },
    {
      "cell_type": "code",
      "metadata": {
        "id": "Eid1rJdcN-UQ",
        "colab": {
          "base_uri": "https://localhost:8080/"
        },
        "outputId": "1ec25ff0-4d11-4107-cdb0-4cd50ea2ed1a"
      },
      "source": [
        "import re\n",
        "\n",
        "def count_words(some_text):\n",
        "  print('Слов на гласные буквы: ', len(re.findall(r'\\b[АОЭЕИЫУЁЮЯаоэеиыуёюяAEIOUYaeiouy]', some_text)), end=' ')\n",
        "  print('Слов на согласные буквы: ', len(re.findall(r'\\b[БВГДЗКЛМНПРСТФХбвгдзклмнпрстфхBCDFGHJKLMNPQRSTVWXZbcdfghjklmnpqrstvwxz]', some_text)))\n",
        "\n",
        "some_text = 'Эталонной реализацией Python является интерпретатор CPython, поддерживающий большинство активно используемых платформ. Он распространяется под свободной лицензией Python Software Foundation License, позволяющей использовать его без ограничений в любых приложениях, включая проприетарные.'\n",
        "count_words(some_text)"
      ],
      "execution_count": null,
      "outputs": [
        {
          "output_type": "stream",
          "text": [
            "Слов на гласные буквы:  9 Слов на согласные буквы:  21\n"
          ],
          "name": "stdout"
        }
      ]
    },
    {
      "cell_type": "markdown",
      "metadata": {
        "id": "Xr-Mrm49N-y-"
      },
      "source": [
        "# Задание 6 (необязательное)\n",
        "\n",
        "Напишите функцию, которая будет проверять номер сотового телефона на валидность (только для российского формата), если он валиден, то переводить его в формат:\n",
        "+7-xxx-xxx-xx-xx\n",
        "Постарайтесь предусмотреть как можно больше адекватных форматов изначального ввода номера. Примеры работы программы:\n",
        "\n",
        "phone = '+7 955 555-55-55’\n",
        "Результат: +7-955-555-55-55\n",
        "\n",
        "phone = '8(955)555-55-55’\n",
        "Результат: +7-955-555-55-55\n",
        "\n",
        "phone = '+7 955 555 55 55’\n",
        "Результат: +7-955-555-55-55\n",
        "\n",
        "phone = '7(955) 555-55-55’\n",
        "Результат: +7-955-555-55-55\n",
        "\n",
        "phone = '423-555-55-5555’\n",
        "Результат: Номер не валиден\n",
        "\n",
        "phone = '123-456-789’\n",
        "Результат: Номер не валиден"
      ]
    },
    {
      "cell_type": "code",
      "metadata": {
        "id": "H5FcTnkgODlB"
      },
      "source": [
        "import re\n",
        "\n",
        "def convert_phone_numbers(phone):\n",
        "  pattern = re.compile(r'\\+?\\s?[78]\\s?\\(?(9\\d{2})\\)?\\s?(\\d{3})[-\\s]?(\\d{2})[-\\s]?(\\d{2})')\n",
        "  check = re.search(pattern, phone)\n",
        "\n",
        "  if check is not None:\n",
        "    print(f'phone = {phone} Результат: +7-{check.group(1)}-{check.group(2)}-{check.group(3)}-{check.group(4)}')\n",
        "  else:\n",
        "    print(f'phone = {phone} Результат: Номер не валиден')\n",
        "\n",
        "phone = '+79555555555'\n",
        "convert_phone_numbers(phone)"
      ],
      "execution_count": null,
      "outputs": []
    }
  ]
}