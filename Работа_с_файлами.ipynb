{
  "nbformat": 4,
  "nbformat_minor": 0,
  "metadata": {
    "colab": {
      "name": "Работа с файлами.ipynb",
      "provenance": [],
      "collapsed_sections": []
    },
    "kernelspec": {
      "name": "python3",
      "display_name": "Python 3"
    },
    "language_info": {
      "name": "python"
    }
  },
  "cells": [
    {
      "cell_type": "markdown",
      "metadata": {
        "id": "rKD0uT1R3P90"
      },
      "source": [
        "# Задание 1\n",
        "Переведите содержимое файла purchase_log.txt\n",
        "\n",
        "Фрагмент файла: \n",
        "\n",
        "{\"user_id\": \"user_id\", \"category\": \"category\"}\n",
        "\n",
        "{\"user_id\": \"1840e0b9d4\", \"category\": \"Продукты\"}\n",
        "\n",
        "{\"user_id\": \"4e4f90fcfb\", \"category\": \"Электроника\"}\n",
        "\n",
        "{\"user_id\": \"afea8d72fc\", \"category\": \"Электроника\"}\n",
        "\n",
        "{\"user_id\": \"373a6055fe\", \"category\": \"Бытовая техника\"}\n",
        "\n",
        "{\"user_id\": \"9b2ab046f3\", \"category\": \"Электроника\"}\n",
        "\n",
        " в словарь purchases вида:\n",
        "{‘1840e0b9d4’: ‘Продукты’, …}"
      ]
    },
    {
      "cell_type": "code",
      "metadata": {
        "id": "J4KA00iV3TV5"
      },
      "source": [
        "import json\n",
        "\n",
        "purchases = {}\n",
        "\n",
        "with open('purchase_log.txt', encoding='utf-8') as file:\n",
        "    for line in file:\n",
        "        line = json.loads(line.strip())\n",
        "        purchases[list(line.values())[0]] = list(line.values())[1]\n",
        "\n",
        "purchases"
      ],
      "execution_count": null,
      "outputs": []
    },
    {
      "cell_type": "markdown",
      "metadata": {
        "id": "JvuDleB69S3W"
      },
      "source": [
        "# Задание 2\n",
        "Для каждого user_id в файле visit_log.csv определите третий столбец с категорией покупки (если покупка была, сам файл visit_log.csv изменять не надо). Запишите в файл funnel.csv визиты из файла visit_log.csv, в которых были покупки с указанием категории."
      ]
    },
    {
      "cell_type": "code",
      "metadata": {
        "id": "i0_CNtQy9XQU"
      },
      "source": [
        "# Для каждого user_id в файле visit_log.csv определяем категорию покупки из файла purchase_log.txt. \n",
        "# Если покупка была и категория определена, то записываем в файл funnel.csv визиты из файла visit_log.csv с указанием категории\n",
        "\n",
        "import json\n",
        "\n",
        "with open('visit_log.csv') as file_visits:\n",
        "    with open('purchase_log.txt', encoding='utf-8') as file_purchases:\n",
        "        purchases = {}\n",
        "        for line in file_purchases:\n",
        "            line = json.loads(line.strip())\n",
        "            purchases[list(line.values())[0]] = list(line.values())[1]\n",
        "            \n",
        "        with open('funnel.csv', 'w') as file_funnels:\n",
        "            for visit in file_visits:\n",
        "                visit = visit.strip().split(',')\n",
        "                if purchases.setdefault(visit[0]) is not None and purchases.setdefault(visit[0]) != 'не определена':\n",
        "                        file_funnels.write(visit[0] + ',' + visit[1] + ',' + purchases.setdefault(visit[0]) + '\\n')"
      ],
      "execution_count": null,
      "outputs": []
    }
  ]
}