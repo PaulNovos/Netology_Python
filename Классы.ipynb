{
  "nbformat": 4,
  "nbformat_minor": 0,
  "metadata": {
    "colab": {
      "name": "Классы.ipynb",
      "provenance": [],
      "collapsed_sections": []
    },
    "kernelspec": {
      "name": "python3",
      "display_name": "Python 3"
    },
    "language_info": {
      "name": "python"
    }
  },
  "cells": [
    {
      "cell_type": "markdown",
      "metadata": {
        "id": "hYr6d3Ldnr0d"
      },
      "source": [
        "# Задание 1\n",
        "Напишите функцию, которая возвращает название валюты (поле ‘Name’) с максимальным значением курса с помощью сервиса www.cbr-xml-daily.ru...ly_json.js"
      ]
    },
    {
      "cell_type": "code",
      "metadata": {
        "id": "_LZxgucunmOJ"
      },
      "source": [
        "import requests\n",
        "\n",
        "def max_course_currency():\n",
        "  \"\"\"\n",
        "  Функция возвращает название валюты с максимальным курсом к рублю на текущую дату\n",
        "  \"\"\"\n",
        "  max_course = 0\n",
        "  max_currency = ''\n",
        "  all_currency = requests.get('https://www.cbr-xml-daily.ru/daily_json.js').json()\n",
        "\n",
        "  return max(all_currency['Valute'].items(), key=lambda x: x[1]['Value'])[1]['Name']\n",
        "\n",
        "max_course_currency()"
      ],
      "execution_count": null,
      "outputs": []
    },
    {
      "cell_type": "markdown",
      "metadata": {
        "id": "KiLUVoLqrpK0"
      },
      "source": [
        "# Задание 2\n",
        "Добавьте в класс Rate параметр diff (со значениями True или False), который в случае значения True в методах курсов валют (eur, usd итд) будет возвращать не курс валюты, а изменение по сравнению в прошлым значением. Считайте, self.diff будет принимать значение True только при возврате значения курса. При отображении всей информации о валюте он не используется."
      ]
    },
    {
      "cell_type": "code",
      "metadata": {
        "id": "hZCSdiRArtBd"
      },
      "source": [
        "import requests\n",
        "\n",
        "class Rate:\n",
        "    def __init__(self, format_='value', diff=False):\n",
        "        self.format = format_\n",
        "        self.diff = diff\n",
        "    \n",
        "    def exchange_rates(self):\n",
        "        \"\"\"\n",
        "        Возвращает ответ сервиса с информацией о валютах в виде:\n",
        "        \n",
        "        {\n",
        "            'AMD': {\n",
        "                'CharCode': 'AMD',\n",
        "                'ID': 'R01060',\n",
        "                'Name': 'Армянских драмов',\n",
        "                'Nominal': 100,\n",
        "                'NumCode': '051',\n",
        "                'Previous': 14.103,\n",
        "                'Value': 14.0879\n",
        "                },\n",
        "            ...\n",
        "        }\n",
        "        \"\"\"\n",
        "        self.r = requests.get('https://www.cbr-xml-daily.ru/daily_json.js')\n",
        "        return self.r.json()['Valute']\n",
        "    \n",
        "    def make_format(self, currency):\n",
        "        \"\"\"\n",
        "        Возвращает информацию о валюте currency в трёх вариантах:\n",
        "        - полная информация о валюте при self.format = 'full':\n",
        "        Rate('full').make_format('EUR')\n",
        "        {\n",
        "            'CharCode': 'EUR',\n",
        "            'ID': 'R01239',\n",
        "            'Name': 'Евро',\n",
        "            'Nominal': 1,\n",
        "            'NumCode': '978',\n",
        "            'Previous': 79.6765,\n",
        "            'Value': 79.4966\n",
        "        }\n",
        "        \n",
        "        - информация о курсе валюты на сегодня:\n",
        "        Rate('value').make_format('EUR')\n",
        "        79.4966\n",
        "\n",
        "        - информация об изменении курса валюты на сегодня по сравнению с прошлым днём:\n",
        "        Rate('value', True).make_format('EUR')\n",
        "        0.28770000000000095\n",
        "        \"\"\"\n",
        "        response = self.exchange_rates()\n",
        "        \n",
        "        if currency in response:\n",
        "            if self.format == 'full':\n",
        "                return response[currency]\n",
        "            \n",
        "            if self.format == 'value':\n",
        "              if self.diff == True:\n",
        "                return (response[currency]['Value'] - response[currency]['Previous'])\n",
        "              \n",
        "              else:\n",
        "                return response[currency]['Value']\n",
        "                        \n",
        "        return 'Error'\n",
        "    \n",
        "    def eur(self):\n",
        "        \"\"\"Возвращает значение курса евро на сегодня или изменение курса по сравнению с прошлым днём: Rate(diff=True).eur() в формате self.format\"\"\"\n",
        "        return self.make_format('EUR')\n",
        "    \n",
        "    def usd(self):\n",
        "        \"\"\"Возвращает значение курса доллара на сегодня или изменение курса по сравнению с прошлым днём: Rate(diff=True).usd() в формате self.format\"\"\"\n",
        "        return self.make_format('USD')\n",
        "    \n",
        "    def brl(self):\n",
        "        \"\"\"Возвращает значение курса бразильского реала на сегодня или изменение курса по сравнению с прошлым днём: Rate(diff=True).brl() в формате self.format\"\"\"\n",
        "        return self.make_format('BRL')\n",
        "\n",
        "Rate(diff=True).eur()"
      ],
      "execution_count": null,
      "outputs": []
    },
    {
      "cell_type": "markdown",
      "metadata": {
        "id": "zsHdcTx4rtdi"
      },
      "source": [
        "# Задание 3\n",
        "\n",
        "Напишите класс Designer, который учитывает количество международных премий для дизайнеров (“Повышение на 1 грейд за каждые 7 баллов. Получение международной премии – это +2 балла”). Считайте, что при выходе на работу сотрудник уже имеет две премии и их количество не меняется со стажем (конечно, если хотите это можно вручную менять).\n",
        "\n",
        "Класс Designer пишется по аналогии с классом Developer из материалов занятия."
      ]
    },
    {
      "cell_type": "code",
      "metadata": {
        "id": "mOJezkWVrzSG"
      },
      "source": [
        "class Employee:\n",
        "    def __init__(self, name, seniority):\n",
        "        self.name = name\n",
        "        self.seniority = seniority\n",
        "        \n",
        "        self.grade = 1\n",
        "    \n",
        "    def grade_up(self):\n",
        "        \"\"\"Повышает уровень сотрудника\"\"\"\n",
        "        self.grade += 1\n",
        "    \n",
        "    def publish_grade(self):\n",
        "        \"\"\"Публикация результатов аккредитации сотрудников\"\"\"\n",
        "        print(self.name, self.grade)\n",
        "    \n",
        "    def check_if_it_is_time_for_upgrade(self):\n",
        "        pass\n",
        "\n",
        "class Designer(Employee):\n",
        "    def __init__(self, name, seniority, award=2):\n",
        "        super().__init__(name, seniority)\n",
        "        self.award = award\n",
        "        # добавляем 2 балла к seniority за каждую премию\n",
        "        self.seniority = self.seniority + self.award * 2 \n",
        "    \n",
        "    def check_if_it_is_time_for_upgrade(self):\n",
        "        # для каждой аккредитации увеличиваем счетчик на 1\n",
        "        # пока считаем, что все дизайнеры проходят аккредитацию\n",
        "        self.seniority += 1\n",
        "        \n",
        "        # условие повышения сотрудника из презентации\n",
        "        if self.seniority % 7 == 0:\n",
        "            self.grade_up()\n",
        "        \n",
        "        # публикация результатов\n",
        "        return self.publish_grade()\n",
        "\n",
        "alex = Designer('Александр', 0)\n",
        "for i in range(20):\n",
        "    alex.check_if_it_is_time_for_upgrade()\n",
        "    print(alex.seniority)"
      ],
      "execution_count": null,
      "outputs": []
    }
  ]
}