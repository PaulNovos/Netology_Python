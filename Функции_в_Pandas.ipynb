{
  "nbformat": 4,
  "nbformat_minor": 0,
  "metadata": {
    "colab": {
      "name": "Функции в Pandas.ipynb",
      "provenance": [],
      "collapsed_sections": []
    },
    "kernelspec": {
      "name": "python3",
      "display_name": "Python 3"
    },
    "language_info": {
      "name": "python"
    }
  },
  "cells": [
    {
      "cell_type": "markdown",
      "metadata": {
        "id": "odwuod0aNJ1C"
      },
      "source": [
        "# Задание 1**\n",
        "Напишите функцию, которая классифицирует фильмы из материалов занятия по следующим правилам:\n",
        "- оценка 2 и меньше - низкий рейтинг\n",
        "- оценка 4 и меньше - средний рейтинг\n",
        "- оценка 4.5 и 5 - высокий рейтинг\n",
        "\n",
        "Результат классификации запишите в столбец class"
      ]
    },
    {
      "cell_type": "code",
      "metadata": {
        "id": "WCNnELTbNPzD"
      },
      "source": [
        "import pandas as pd\n",
        "\n",
        "ratings = pd.read_csv('ratings.csv')\n",
        "\n",
        "def classification(data):\n",
        "  if data['rating'] <= 2 :\n",
        "    return 'низкий рейтинг'\n",
        "  elif data['rating'] <= 4 :\n",
        "    return 'средний рейтинг'\n",
        "  else:\n",
        "    return 'высокий рейтинг'\n",
        "\n",
        "ratings['class'] = ratings.apply(classification, axis=1)\n",
        "ratings.head(20)"
      ],
      "execution_count": null,
      "outputs": []
    },
    {
      "cell_type": "markdown",
      "metadata": {
        "id": "JEqmqj8MNQUd"
      },
      "source": [
        "# Задание 2\n",
        "Используем файл keywords.csv.\n",
        "\n",
        "Необходимо написать гео-классификатор, который каждой строке сможет выставить географическую принадлежность определенному региону. Т. е. если поисковый запрос содержит название города региона, то в столбце ‘region’ пишется название этого региона. Если поисковый запрос не содержит названия города, то ставим ‘undefined’.\n",
        "\n",
        "Правила распределения по регионам Центр, Северо-Запад и Дальний Восток:\n",
        "\n",
        "geo_data = {\n",
        "\n",
        "1 'Центр': ['москва', 'тула', 'ярославль'],\n",
        "\n",
        "2\n",
        "\n",
        "3 'Северо-Запад': ['петербург', 'псков', 'мурманск'],\n",
        "\n",
        "4\n",
        "\n",
        "5 'Дальний Восток': ['владивосток', 'сахалин', 'хабаровск']\n",
        "\n",
        "}\n",
        "\n",
        "Результат классификации запишите в отдельный столбец region."
      ]
    },
    {
      "cell_type": "code",
      "metadata": {
        "colab": {
          "base_uri": "https://localhost:8080/"
        },
        "id": "tLisnMf8NtgZ",
        "outputId": "be9e81c4-8ead-40c6-e7b1-1cb643a32bfe"
      },
      "source": [
        "geo_data = {\n",
        "'Центр': ['москва', 'тула', 'ярославль'],\n",
        "'Северо-Запад': ['петербург', 'псков', 'мурманск'],\n",
        "'Дальний Восток': ['владивосток', 'сахалин', 'хабаровск']\n",
        "}\n",
        "\n",
        "keywords = pd.read_csv('keywords.csv')\n",
        "\n",
        "keywords.head(10)\n",
        "\n",
        "def key_geo(row):\n",
        "  for region, cities in geo_data.items():\n",
        "    for city in cities:\n",
        "      if  row['keyword'].find(city[:-1]) != -1:\n",
        "        return region\n",
        "\n",
        "  return 'undefined'\n",
        "\n",
        "keywords['region'] = keywords.apply(key_geo, axis=1)\n",
        "\n",
        "keywords.value_counts('region')"
      ],
      "execution_count": null,
      "outputs": [
        {
          "output_type": "execute_result",
          "data": {
            "text/plain": [
              "region\n",
              "undefined         98783\n",
              "Центр               858\n",
              "Северо-Запад        265\n",
              "Дальний Восток       94\n",
              "dtype: int64"
            ]
          },
          "metadata": {},
          "execution_count": 29
        }
      ]
    },
    {
      "cell_type": "markdown",
      "metadata": {
        "id": "J7yCt3epNuhn"
      },
      "source": [
        "# Задание 3 (бонусное)\n",
        "\n",
        "Есть мнение, что “раньше снимали настоящее кино, не то что сейчас”. Ваша задача проверить это утверждение, используя файлы с рейтингами фильмов из прошлого домашнего занятия (файл movies.csv и ratings.csv из базы grouplens.org.../movielens). Т. е. проверить верно ли, что с ростом года выпуска фильма его средний рейтинг становится ниже.\n",
        "\n",
        "При этом мы не будем затрагивать субьективные факторы выставления этих рейтингов, а пройдемся по следующему алгоритму:\n",
        "\n",
        "В переменную years запишите список из всех годов с 1950 по 2010.\n",
        "\n",
        "Напишите функцию production_year, которая каждой строке из названия фильма выставляет год выпуска. Не все названия фильмов содержат год выпуска в одинаковом формате, поэтому используйте следующий алгоритм:\n",
        "\n",
        "для каждой строки пройдите по всем годам списка years\n",
        "если номер года присутствует в названии фильма, то функция возвращает этот год как год выпуска\n",
        "если ни один из номеров года списка years не встретился в названии фильма, то возвращается 1900 год\n",
        "Запишите год выпуска фильма по алгоритму пункта 2 в новый столбец ‘year’\n",
        "\n",
        "Посчитайте средний рейтинг всех фильмов для каждого значения столбца ‘year’ и отсортируйте результат по убыванию рейтинга"
      ]
    },
    {
      "cell_type": "code",
      "metadata": {
        "id": "2Em5tlK3N1hD"
      },
      "source": [
        "years = list(range(1950, 2011))\n",
        "\n",
        "def production_year(row):\n",
        "  for year in years:\n",
        "    if row['title'].find(str(year)) != -1:\n",
        "      return year\n",
        "\n",
        "  return '1900'\n",
        "\n",
        "movies = pd.read_csv('movies.csv')\n",
        "\n",
        "movies['year'] = movies.apply(production_year, axis=1)\n",
        "\n",
        "movies.merge(ratings).groupby('year').mean()['rating'].sort_values(ascending=False).head(10)"
      ],
      "execution_count": null,
      "outputs": []
    }
  ]
}