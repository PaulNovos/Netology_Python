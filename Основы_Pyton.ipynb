{
  "nbformat": 4,
  "nbformat_minor": 0,
  "metadata": {
    "colab": {
      "name": "Основы_Pyton.ipynb",
      "provenance": [],
      "collapsed_sections": [],
      "toc_visible": true
    },
    "kernelspec": {
      "name": "python3",
      "display_name": "Python 3"
    },
    "language_info": {
      "name": "python"
    }
  },
  "cells": [
    {
      "cell_type": "markdown",
      "metadata": {
        "id": "WiW-rV5zsR-S"
      },
      "source": [
        "# Задание 1\n",
        "Даны 2 переменных, в которых хранятся строки произвольной длины: phrase_1 и phrase_2.\n",
        "Напишите код, который проверяет какая из этих строк длиннее."
      ]
    },
    {
      "cell_type": "code",
      "metadata": {
        "id": "y2_gszN2sfsC"
      },
      "source": [
        "phrase_1 = input('Введите фразу 1: ')\n",
        "phrase_2 = input('Введите фразу 2: ')\n",
        "\n",
        "if len(phrase_1) > len(phrase_2):\n",
        "  print('Фраза 1 длиннее Фразы 2')\n",
        "elif len(phrase_1) < len(phrase_2):\n",
        "  print('Фраза 2 длиннее Фразы 1')\n",
        "else:\n",
        "  print('Фразы равной длины')"
      ],
      "execution_count": null,
      "outputs": []
    },
    {
      "cell_type": "markdown",
      "metadata": {
        "id": "nA2OTXSmxZsq"
      },
      "source": [
        "# Задание 2\n",
        "Дана переменная, в которой хранится четырехзначное число (год). Необходимо написать программу, которая выведет, является ли данный год високосным или обычным."
      ]
    },
    {
      "cell_type": "code",
      "metadata": {
        "id": "A78Xu1hPxh4C"
      },
      "source": [
        "year = int(input('Введите значение года: '))\n",
        "\n",
        "if year % 4 != 0 or (year % 100 == 0 and year % 400 != 0):\n",
        "  print(year, ' - это обычный год')\n",
        "else:\n",
        "  print(year, ' - это високосный год')"
      ],
      "execution_count": null,
      "outputs": []
    },
    {
      "cell_type": "markdown",
      "metadata": {
        "id": "Q00NxV-f4gZg"
      },
      "source": [
        "# Задание 3\n",
        "Необходимо написать программу, которая будет запрашивать у пользователя месяц и дату рождения и выводить соответствующий знак зодиака."
      ]
    },
    {
      "cell_type": "code",
      "metadata": {
        "id": "P7XLjc1D4mIQ"
      },
      "source": [
        "day = int(input('Введите день: '))\n",
        "month = input('Введите месяц: ').lower()\n",
        "\n",
        "if (month == 'март' and day >= 21) or (month == 'апрель' and day <= 20):\n",
        "  print('Ваш знак Зодиака: Овен')\n",
        "elif (month == 'апрель' and day >= 21) or (month == 'май' and day <= 21):\n",
        "  print('Ваш знак Зодиака: Телец')\n",
        "elif (month == 'май' and day >= 22) or (month == 'июнь' and day <= 21):\n",
        "  print('Ваш знак Зодиака: Близнецы')\n",
        "elif (month == 'июнь' and day >= 22) or (month == 'июль' and day <= 22):\n",
        "  print('Ваш знак Зодиака: Рак')\n",
        "elif (month == 'июль' and day >= 23) or (month == 'август' and day <= 21):\n",
        "  print('Ваш знак Зодиака: Лев')\n",
        "elif (month == 'август' and day >= 22) or (month == 'сентябрь' and day <= 23):\n",
        "  print('Ваш знак Зодиака: Дева')\n",
        "elif (month == 'сентябрь' and day >= 24) or (month == 'октябрь' and day <= 23):\n",
        "  print('Ваш знак Зодиака: Весы')\n",
        "elif (month == 'октябрь' and day >= 24) or (month == 'ноябрь' and day <= 22):\n",
        "  print('Ваш знак Зодиака: Скорпион')\n",
        "elif (month == 'ноябрь' and day >= 23) or (month == 'декабрь' and day <= 22):\n",
        "  print('Ваш знак Зодиака: Стрелец')\n",
        "elif (month == 'декабрь' and day >= 23) or (month == 'январь' and day <= 20):\n",
        "  print('Ваш знак Зодиака: Козерог')\n",
        "elif (month == 'январь' and day >= 21) or (month == 'февраль' and day <= 19):\n",
        "  print('Ваш знак Зодиака: Водолей')\n",
        "elif (month == 'февраль' and day >= 20) or (month == 'март' and day <= 20):\n",
        "  print('Ваш знак Зодиака: Рыбы')"
      ],
      "execution_count": null,
      "outputs": []
    },
    {
      "cell_type": "markdown",
      "metadata": {
        "id": "Tw_yvkc28Vow"
      },
      "source": [
        "# Задание 4\n",
        "Вам нужно написать программу для подбора упаковок по размерам товара. Размеры (ширина, длина, высота) хранятся в переменных (в сантиметрах):\n",
        "\n",
        "Используйте следующие правила:\n",
        "\n",
        "если каждое из трех измерений менее или равно 15 сантиметрам, то выведите на экран “Коробка №1”;\n",
        "\n",
        "если хотя бы одно из измерений больше 15 сантиметров, но менее 50 сантиметров, то выводите “Коробка №2”;\n",
        "\n",
        "если длина товара больше 2 метров, то выводите “Упаковка для лыж”;\n",
        "\n",
        "во всех остальных случаях выводите “Стандартная коробка №3”."
      ]
    },
    {
      "cell_type": "code",
      "metadata": {
        "id": "4Rtoqa3Z8Z9E"
      },
      "source": [
        "width = 45\n",
        "length = 205\n",
        "height = 45\n",
        "\n",
        "if width <= 15 and length <= 15 and height <= 15:\n",
        "  print('Коробка №1')\n",
        "elif length > 200:\n",
        "  print('Упаковка для лыж')\n",
        "elif (15 < width < 50) or (15 < length < 50) or (15 < height < 50):\n",
        "  print('Коробка №2')\n",
        "else:\n",
        "  print('Стандартная коробка №3')"
      ],
      "execution_count": null,
      "outputs": []
    },
    {
      "cell_type": "markdown",
      "metadata": {
        "id": "_v1Bd8hi-EKN"
      },
      "source": [
        "# Задание 5\n",
        "Дана переменная, в которой хранится шестизначное число (номер проездного билета). Напишите программу, которая будет определять, является ли данный билет “счастливым”.\n",
        "\n",
        "Билет считается счастливым, если сумма первых трех цифр совпадает с суммой последних трех цифр номера."
      ]
    },
    {
      "cell_type": "code",
      "metadata": {
        "id": "nDjd7-vx-I6i"
      },
      "source": [
        "number = int(input('Введите номер билета: '))\n",
        "\n",
        "\"\"\" цифры в числе вычисляем как результат целочисленного деления искомой цифры на 10^х, где х - количество цифр после искомой,\n",
        "    для второй и последующих цифр от результата деления отнимаем всё то, что стоит до нужной цифры\n",
        "\"\"\"\n",
        "digit_1 = number // 100000\n",
        "digit_2 = number // 10000 - number // 100000 * 10\n",
        "digit_3 = number // 1000 - number // 10000 * 10\n",
        "digit_4 = number // 100 - number // 1000 * 10\n",
        "digit_5 = number // 10 - number // 100 * 10\n",
        "digit_6 = number - number // 10 * 10\n",
        "\n",
        "if (digit_1 + digit_2 + digit_3) == (digit_4 + digit_5 + digit_6):\n",
        "  print('Это счастчивый билет!!!')\n",
        "else:\n",
        "  print('Это несчастчивый билет :(')"
      ],
      "execution_count": null,
      "outputs": []
    },
    {
      "cell_type": "markdown",
      "metadata": {
        "id": "yLl7uq2RKVpw"
      },
      "source": [
        "# Задание 6\n",
        "Напишите программу, которая сможет вычислять площади трех фигур (круг, треугольник и прямоугольник). Тип фигуры запрашиваем через пользовательский ввод, после чего делаем запрос характеристик фигуры:\n",
        "\n",
        "если пользователь выбрал круг, запрашиваем его радиус,\n",
        "\n",
        "если треугольник – длины трех его сторон;\n",
        "\n",
        "если прямоугольник – длины двух его сторон."
      ]
    },
    {
      "cell_type": "code",
      "metadata": {
        "id": "T2TnYTJxKY8z"
      },
      "source": [
        "figure = input('Введите тип фигуры (круг, треугольник или прямоугольник): ').lower()\n",
        "\n",
        "if figure == 'круг':\n",
        "  radius = int(input('Введите радиус круга: '))\n",
        "  print('Площадь круга: ', round(3.14 * radius**2, 2))\n",
        "elif figure == 'треугольник':\n",
        "  a = int(input('Введите длину первой стороны: '))\n",
        "  b = int(input('Введите длину второй стороны: '))\n",
        "  c = int(input('Введите длину третьей стороны: '))\n",
        "  p = (a + b + c) / 2\n",
        "  print('Площадь треугольника: ', round((p * (p - a) * (p - b) * (p - c))**0.5, 2))\n",
        "else:\n",
        "  a = int(input('Введите длину первой стороны: '))\n",
        "  b = int(input('Введите длину второй стороны: '))\n",
        "  print('Площадь прямоугольника: ', round(a * b, 2))\n"
      ],
      "execution_count": null,
      "outputs": []
    }
  ]
}