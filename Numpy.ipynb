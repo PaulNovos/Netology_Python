{
  "nbformat": 4,
  "nbformat_minor": 0,
  "metadata": {
    "colab": {
      "name": "Numpy.ipynb",
      "provenance": [],
      "collapsed_sections": [],
      "toc_visible": true
    },
    "kernelspec": {
      "name": "python3",
      "display_name": "Python 3"
    },
    "language_info": {
      "name": "python"
    }
  },
  "cells": [
    {
      "cell_type": "markdown",
      "metadata": {
        "id": "CngL4JLwrp6_"
      },
      "source": [
        "# Задание 1\n",
        "Создайте numpy array с элементами от числа N до 0 (например, для N = 10 это будет array([9, 8, 7, 6, 5, 4, 3, 2, 1, 0]))."
      ]
    },
    {
      "cell_type": "code",
      "metadata": {
        "id": "TnqKPGcJrhkM"
      },
      "source": [
        "import numpy as np\n",
        "\n",
        "n = 8\n",
        "\n",
        "#np.arange(n-1, -1, -1)\n",
        "np.arange(n)[::-1]"
      ],
      "execution_count": null,
      "outputs": []
    },
    {
      "cell_type": "markdown",
      "metadata": {
        "id": "SztVNuLvrtqH"
      },
      "source": [
        "# Задание 2\n",
        "Создайте диагональную матрицу с элементами от N до 0. Посчитайте сумму ее значений на диагонали."
      ]
    },
    {
      "cell_type": "code",
      "metadata": {
        "id": "ZPiDXBx3rxO4"
      },
      "source": [
        "n = 9\n",
        "\n",
        "matr = np.diag(np.arange(n)[::-1])\n",
        "\n",
        "print(matr)\n",
        "\n",
        "sum(matr.diagonal())"
      ],
      "execution_count": null,
      "outputs": []
    },
    {
      "cell_type": "markdown",
      "metadata": {
        "id": "Pv_vDn6Arx37"
      },
      "source": [
        "# Задание 3\n",
        "Решите систему уравнений:\n",
        "\n",
        "4x + 2y + z = 4\n",
        "\n",
        "x + 3y = 12\n",
        "\n",
        "5y + 4z = -3"
      ]
    },
    {
      "cell_type": "code",
      "metadata": {
        "id": "ODZARdQzr1KB"
      },
      "source": [
        "from numpy import linalg\n",
        "\n",
        "a = np.array( [ [4, 2, 1], [1, 3, 0], [0, 5, 4] ] )\n",
        "b = np.array( [4, 12, -3] )\n",
        "\n",
        "linalg.solve(a, b)"
      ],
      "execution_count": null,
      "outputs": []
    },
    {
      "cell_type": "markdown",
      "metadata": {
        "id": "7IgZp7zrr1r3"
      },
      "source": [
        "# Задание 4\n",
        "Имеется матрица покупок в интернет-магазине. Столбец А - ID пользователя. Остальные столбцы - количество покупок категорий товаров этим пользователем.\n",
        "На сайт заходит очередной посетитель, о покупках которого известно следующее:\n",
        "\n",
        "next_user_stats = np.array([0, 1, 2, 0, 0, 0])\n",
        "\n",
        "Найдите самого похожего пользователя. Т. е. посчитайте косинусное сходство между этим пользователем и всеми пользователями из массива user_stats"
      ]
    },
    {
      "cell_type": "code",
      "metadata": {
        "id": "2wPhBJN4r5Bu"
      },
      "source": [
        "import numpy as np\n",
        "\n",
        "users_stats = np.array(\n",
        "    [\n",
        "        [2, 1, 0, 0, 0, 0],\n",
        "        [1, 1, 2, 1, 0, 0],\n",
        "        [2, 0, 1, 0, 0, 0],\n",
        "        [1, 1, 2, 1, 0, 1],\n",
        "        [0, 0, 1, 2, 0, 0],\n",
        "        [0, 0, 0, 0, 0, 5],\n",
        "        [1, 0, 0, 0, 0, 0],\n",
        "        [0, 1, 1, 0, 0, 0],\n",
        "        [0, 0, 0, 1, 1, 3],\n",
        "        [1, 0, 0, 2, 1, 4]\n",
        "    ], \n",
        "    np.int32\n",
        ")\n",
        "\n",
        "next_user_stats = np.array([0, 1, 2, 0, 0, 0])\n",
        "\n",
        "def cosine( a, b ):\n",
        "    \"\"\"\n",
        "    Подсчет косинуса угла между векторами a, b по их координатам\n",
        "    \"\"\"\n",
        "    \n",
        "    # длины векторов\n",
        "    aLength = np.linalg.norm( a )\n",
        "    bLength = np.linalg.norm( b )\n",
        "    \n",
        "    return np.dot( a, b ) / ( aLength * bLength )\n",
        "\n",
        "def user_similarity(users_stats, next_user_stats):\n",
        "  max_similarity = max([(i, cosine(user, next_user_stats)) for i, user in enumerate(users_stats, start=1)], key = lambda i: i[1]) \n",
        "  print(f'Самый похожий пользователь: ID {max_similarity[0]}, косинусное сходство:  {max_similarity[1]}')\n",
        "\n",
        "\n",
        "user_similarity(users_stats, next_user_stats)"
      ],
      "execution_count": null,
      "outputs": []
    }
  ]
}